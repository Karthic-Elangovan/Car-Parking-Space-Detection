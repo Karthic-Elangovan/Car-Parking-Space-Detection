{
  "cells": [
    {
      "cell_type": "code",
      "source": [
        "import numpy as np\n",
        "import os\n",
        "from tensorflow.keras import applications\n",
        "from tensorflow.keras.preprocessing.image import ImageDataGenerator\n",
        "from tensorflow.keras import optimizers\n",
        "from tensorflow.keras.models import Sequential, Model\n",
        "from tensorflow.keras.layers import Dropout, Flatten, Dense, GlobalAveragePooling2D"
      ],
      "metadata": {
        "id": "RLdxreeVJJf7"
      },
      "execution_count": 1,
      "outputs": []
    },
    {
      "cell_type": "code",
      "source": [
        "files_train = 0\n",
        "files_validation = 0\n",
        "cwd = os.getcwd()\n",
        "folder = '/content/drive/MyDrive/train_data/train'\n",
        "\n",
        "for sub_folder in os.listdir(folder):\n",
        "    path, dirs, files = next(os.walk(os.path.join(folder, sub_folder)))\n",
        "    files_train +=len(files)\n",
        "\n",
        "folder = '/content/drive/MyDrive/train_data/test'\n",
        "\n",
        "for sub_folder in os.listdir(folder):\n",
        "    path, dirs, files = next(os.walk(os.path.join(folder, sub_folder)))\n",
        "    files_validation +=len(files)\n",
        "\n",
        "print(files_train, files_validation)"
      ],
      "metadata": {
        "id": "VbfyZqZphQhv",
        "colab": {
          "base_uri": "https://localhost:8080/"
        },
        "outputId": "d3fa3e7d-5815-42bc-8758-368cef5a4c8a"
      },
      "execution_count": 2,
      "outputs": [
        {
          "output_type": "stream",
          "name": "stdout",
          "text": [
            "432 164\n"
          ]
        }
      ]
    },
    {
      "cell_type": "code",
      "source": [
        "img_width, img_height = 48,48\n",
        "train_data_dir = '/content/drive/MyDrive/train_data/train'\n",
        "validation_data_dir = '/content/drive/MyDrive/train_data/test'\n",
        "nb_train_sample = files_train\n",
        "nb_validation_sample = files_validation\n",
        "batch_size = 32\n",
        "epochs = 15\n",
        "num_classes = 2"
      ],
      "metadata": {
        "id": "KUVcKaYFkiFX"
      },
      "execution_count": 3,
      "outputs": []
    },
    {
      "cell_type": "code",
      "source": [
        "model = applications.VGG16(weights = 'imagenet', include_top = False, input_shape = (img_width, img_height, 3))"
      ],
      "metadata": {
        "colab": {
          "base_uri": "https://localhost:8080/"
        },
        "id": "Y5GCj6rfkl_7",
        "outputId": "d9ed3def-3daf-46bf-ae81-4f4dfa758f4e"
      },
      "execution_count": 4,
      "outputs": [
        {
          "output_type": "stream",
          "name": "stdout",
          "text": [
            "Downloading data from https://storage.googleapis.com/tensorflow/keras-applications/vgg16/vgg16_weights_tf_dim_ordering_tf_kernels_notop.h5\n",
            "58889256/58889256 [==============================] - 0s 0us/step\n"
          ]
        }
      ]
    },
    {
      "cell_type": "code",
      "source": [
        "model.layers"
      ],
      "metadata": {
        "colab": {
          "base_uri": "https://localhost:8080/"
        },
        "id": "UX6gR7n4kmgF",
        "outputId": "9b9bf245-9e36-41fa-9991-d8955d717ba3"
      },
      "execution_count": 5,
      "outputs": [
        {
          "output_type": "execute_result",
          "data": {
            "text/plain": [
              "[<keras.src.engine.input_layer.InputLayer at 0x7ec26f671ab0>,\n",
              " <keras.src.layers.convolutional.conv2d.Conv2D at 0x7ec26f6720e0>,\n",
              " <keras.src.layers.convolutional.conv2d.Conv2D at 0x7ec26f672860>,\n",
              " <keras.src.layers.pooling.max_pooling2d.MaxPooling2D at 0x7ec26f6735b0>,\n",
              " <keras.src.layers.convolutional.conv2d.Conv2D at 0x7ec26f673fd0>,\n",
              " <keras.src.layers.convolutional.conv2d.Conv2D at 0x7ec26f672c20>,\n",
              " <keras.src.layers.pooling.max_pooling2d.MaxPooling2D at 0x7ec26edc93f0>,\n",
              " <keras.src.layers.convolutional.conv2d.Conv2D at 0x7ec26edc9b10>,\n",
              " <keras.src.layers.convolutional.conv2d.Conv2D at 0x7ec26edca230>,\n",
              " <keras.src.layers.convolutional.conv2d.Conv2D at 0x7ec26edc9870>,\n",
              " <keras.src.layers.pooling.max_pooling2d.MaxPooling2D at 0x7ec26edcbd00>,\n",
              " <keras.src.layers.convolutional.conv2d.Conv2D at 0x7ec26edcb3d0>,\n",
              " <keras.src.layers.convolutional.conv2d.Conv2D at 0x7ec26edca170>,\n",
              " <keras.src.layers.convolutional.conv2d.Conv2D at 0x7ec26edc9840>,\n",
              " <keras.src.layers.pooling.max_pooling2d.MaxPooling2D at 0x7ec26edda440>,\n",
              " <keras.src.layers.convolutional.conv2d.Conv2D at 0x7ec26edd9120>,\n",
              " <keras.src.layers.convolutional.conv2d.Conv2D at 0x7ec26eddaf80>,\n",
              " <keras.src.layers.convolutional.conv2d.Conv2D at 0x7ec26eddba90>,\n",
              " <keras.src.layers.pooling.max_pooling2d.MaxPooling2D at 0x7ec26edf0c10>]"
            ]
          },
          "metadata": {},
          "execution_count": 5
        }
      ]
    },
    {
      "cell_type": "code",
      "source": [
        "for layer in model.layers[:10]:\n",
        "    layer.traiable = False"
      ],
      "metadata": {
        "id": "sXMt18xSknHj"
      },
      "execution_count": 6,
      "outputs": []
    },
    {
      "cell_type": "code",
      "source": [
        "x = model.output\n",
        "x = Flatten()(x)\n",
        "\n",
        "predictions = Dense(num_classes, activation = 'softmax')(x)\n",
        "model_final = Model(inputs = model.input, outputs = predictions)\n",
        "\n",
        "model_final.compile(loss = 'categorical_crossentropy',\n",
        "                    optimizer = optimizers.SGD(learning_rate = 0.0001, momentum=0.9),\n",
        "                    metrics=['accuracy'])"
      ],
      "metadata": {
        "id": "WXYuRliBknis"
      },
      "execution_count": 8,
      "outputs": []
    },
    {
      "cell_type": "code",
      "source": [
        "train_datagen = ImageDataGenerator(rescale=1.0/255, horizontal_flip=True,\n",
        "                   fill_mode='nearest',zoom_range=0.1, width_shift_range=0.1,\n",
        "                  height_shift_range=0.1, rotation_range=5)\n",
        "\n",
        "test_datagen = ImageDataGenerator(rescale=1.0/255, horizontal_flip=True,\n",
        "                   fill_mode='nearest',zoom_range=0.1, width_shift_range=0.1,\n",
        "                  height_shift_range=0.1, rotation_range=5)\n",
        "\n",
        "train_generator = train_datagen.flow_from_directory(train_data_dir, target_size=(img_height, img_width),\n",
        "                                 batch_size = batch_size, class_mode = 'categorical')\n",
        "\n",
        "validation_generator = test_datagen.flow_from_directory(validation_data_dir, target_size=(img_height, img_width),\n",
        "                                 batch_size = batch_size, class_mode = 'categorical')"
      ],
      "metadata": {
        "colab": {
          "base_uri": "https://localhost:8080/"
        },
        "id": "lYhymf5Pkn52",
        "outputId": "03a1e5b1-311f-4b95-ae94-a5e8ab32b1a0"
      },
      "execution_count": 9,
      "outputs": [
        {
          "output_type": "stream",
          "name": "stdout",
          "text": [
            "Found 432 images belonging to 2 classes.\n",
            "Found 164 images belonging to 2 classes.\n"
          ]
        }
      ]
    },
    {
      "cell_type": "code",
      "source": [
        "history = model_final.fit(\n",
        "    train_generator,\n",
        "    steps_per_epoch=nb_train_sample // batch_size,\n",
        "    validation_data=validation_generator,\n",
        "    validation_steps=nb_validation_sample // batch_size,\n",
        "    epochs=epochs\n",
        ")"
      ],
      "metadata": {
        "colab": {
          "base_uri": "https://localhost:8080/"
        },
        "id": "IXR0mVUFkoOY",
        "outputId": "8908025b-4d78-43c8-d9f5-a20767e8c4ba"
      },
      "execution_count": 11,
      "outputs": [
        {
          "output_type": "stream",
          "name": "stdout",
          "text": [
            "Epoch 1/15\n",
            "13/13 [==============================] - 100s 8s/step - loss: 0.4171 - accuracy: 0.7725 - val_loss: 0.4109 - val_accuracy: 0.7750\n",
            "Epoch 2/15\n",
            "13/13 [==============================] - 2s 172ms/step - loss: 0.2746 - accuracy: 0.8850 - val_loss: 0.2959 - val_accuracy: 0.8813\n",
            "Epoch 3/15\n",
            "13/13 [==============================] - 2s 172ms/step - loss: 0.1902 - accuracy: 0.9600 - val_loss: 0.2431 - val_accuracy: 0.9000\n",
            "Epoch 4/15\n",
            "13/13 [==============================] - 2s 170ms/step - loss: 0.1344 - accuracy: 0.9675 - val_loss: 0.2019 - val_accuracy: 0.9187\n",
            "Epoch 5/15\n",
            "13/13 [==============================] - 3s 195ms/step - loss: 0.1056 - accuracy: 0.9700 - val_loss: 0.1760 - val_accuracy: 0.9312\n",
            "Epoch 6/15\n",
            "13/13 [==============================] - 2s 169ms/step - loss: 0.0820 - accuracy: 0.9775 - val_loss: 0.1946 - val_accuracy: 0.9312\n",
            "Epoch 7/15\n",
            "13/13 [==============================] - 2s 172ms/step - loss: 0.0668 - accuracy: 0.9800 - val_loss: 0.1738 - val_accuracy: 0.9312\n",
            "Epoch 8/15\n",
            "13/13 [==============================] - 2s 173ms/step - loss: 0.0597 - accuracy: 0.9800 - val_loss: 0.1527 - val_accuracy: 0.9312\n",
            "Epoch 9/15\n",
            "13/13 [==============================] - 2s 176ms/step - loss: 0.0577 - accuracy: 0.9800 - val_loss: 0.1691 - val_accuracy: 0.9375\n",
            "Epoch 10/15\n",
            "13/13 [==============================] - 3s 229ms/step - loss: 0.0451 - accuracy: 0.9825 - val_loss: 0.1181 - val_accuracy: 0.9563\n",
            "Epoch 11/15\n",
            "13/13 [==============================] - 2s 175ms/step - loss: 0.0541 - accuracy: 0.9825 - val_loss: 0.1708 - val_accuracy: 0.9187\n",
            "Epoch 12/15\n",
            "13/13 [==============================] - 2s 172ms/step - loss: 0.0332 - accuracy: 0.9950 - val_loss: 0.1404 - val_accuracy: 0.9438\n",
            "Epoch 13/15\n",
            "13/13 [==============================] - 3s 224ms/step - loss: 0.0356 - accuracy: 0.9900 - val_loss: 0.1247 - val_accuracy: 0.9500\n",
            "Epoch 14/15\n",
            "13/13 [==============================] - 3s 213ms/step - loss: 0.0310 - accuracy: 0.9900 - val_loss: 0.1227 - val_accuracy: 0.9312\n",
            "Epoch 15/15\n",
            "13/13 [==============================] - 3s 200ms/step - loss: 0.0303 - accuracy: 0.9900 - val_loss: 0.1100 - val_accuracy: 0.9563\n"
          ]
        }
      ]
    },
    {
      "cell_type": "code",
      "source": [
        "history.history"
      ],
      "metadata": {
        "colab": {
          "base_uri": "https://localhost:8080/"
        },
        "id": "_6Aa4NK4korI",
        "outputId": "c4aa95ba-8609-4195-b588-4742d8e97030"
      },
      "execution_count": 12,
      "outputs": [
        {
          "output_type": "execute_result",
          "data": {
            "text/plain": [
              "{'loss': [0.41708701848983765,\n",
              "  0.27456748485565186,\n",
              "  0.19024834036827087,\n",
              "  0.13443583250045776,\n",
              "  0.10562647879123688,\n",
              "  0.08198609203100204,\n",
              "  0.06677177548408508,\n",
              "  0.059654608368873596,\n",
              "  0.05773526802659035,\n",
              "  0.04512165114283562,\n",
              "  0.054067764431238174,\n",
              "  0.03324005752801895,\n",
              "  0.03563813120126724,\n",
              "  0.031039414927363396,\n",
              "  0.030316734686493874],\n",
              " 'accuracy': [0.7724999785423279,\n",
              "  0.8849999904632568,\n",
              "  0.9599999785423279,\n",
              "  0.9674999713897705,\n",
              "  0.9700000286102295,\n",
              "  0.9775000214576721,\n",
              "  0.9800000190734863,\n",
              "  0.9800000190734863,\n",
              "  0.9800000190734863,\n",
              "  0.9825000166893005,\n",
              "  0.9825000166893005,\n",
              "  0.9950000047683716,\n",
              "  0.9900000095367432,\n",
              "  0.9900000095367432,\n",
              "  0.9900000095367432],\n",
              " 'val_loss': [0.4108937382698059,\n",
              "  0.29591822624206543,\n",
              "  0.2430763691663742,\n",
              "  0.20194554328918457,\n",
              "  0.17598028481006622,\n",
              "  0.19457100331783295,\n",
              "  0.1737528145313263,\n",
              "  0.15265639126300812,\n",
              "  0.1691371649503708,\n",
              "  0.11811603605747223,\n",
              "  0.17082226276397705,\n",
              "  0.14035001397132874,\n",
              "  0.1246844083070755,\n",
              "  0.1227140873670578,\n",
              "  0.1099809855222702],\n",
              " 'val_accuracy': [0.7749999761581421,\n",
              "  0.8812500238418579,\n",
              "  0.8999999761581421,\n",
              "  0.918749988079071,\n",
              "  0.9312499761581421,\n",
              "  0.9312499761581421,\n",
              "  0.9312499761581421,\n",
              "  0.9312499761581421,\n",
              "  0.9375,\n",
              "  0.956250011920929,\n",
              "  0.918749988079071,\n",
              "  0.9437500238418579,\n",
              "  0.949999988079071,\n",
              "  0.9312499761581421,\n",
              "  0.956250011920929]}"
            ]
          },
          "metadata": {},
          "execution_count": 12
        }
      ]
    },
    {
      "cell_type": "code",
      "source": [
        "import matplotlib.pyplot as plt\n",
        "plt.plot(history.history['accuracy'])\n",
        "plt.plot(history.history['val_accuracy'])\n",
        "plt.title('model_accuracy')\n",
        "plt.ylabel('accuracy')\n",
        "plt.xlabel('epochs')\n",
        "plt.legend(['train', 'test'], loc = 'upper left')\n",
        "plt.show()"
      ],
      "metadata": {
        "colab": {
          "base_uri": "https://localhost:8080/",
          "height": 472
        },
        "id": "wbB5okLIkpe4",
        "outputId": "58e1540e-bea2-4802-d331-66d8e2bdb33c"
      },
      "execution_count": 13,
      "outputs": [
        {
          "output_type": "display_data",
          "data": {
            "text/plain": [
              "<Figure size 640x480 with 1 Axes>"
            ],
            "image/png": "[encoded data removed]"
          },
          "metadata": {}
        }
      ]
    },
    {
      "cell_type": "code",
      "source": [
        "import matplotlib.pyplot as plt\n",
        "plt.plot(history.history['loss'])\n",
        "plt.plot(history.history['val_loss'])\n",
        "plt.title('model_loss')\n",
        "plt.ylabel('loss')\n",
        "plt.xlabel('epochs')\n",
        "plt.legend(['train', 'test'], loc = 'upper left')\n",
        "plt.show()"
      ],
      "metadata": {
        "colab": {
          "base_uri": "https://localhost:8080/",
          "height": 472
        },
        "id": "K-2LN9pvkp6d",
        "outputId": "34bbfe51-1953-4390-84aa-967375786aa1"
      },
      "execution_count": 14,
      "outputs": [
        {
          "output_type": "display_data",
          "data": {
            "text/plain": [
              "<Figure size 640x480 with 1 Axes>"
            ],
            "image/png": "[encoded data removed]"
          },
          "metadata": {}
        }
      ]
    },
    {
      "cell_type": "code",
      "source": [
        "class_dictionary = {}\n",
        "class_dictionary[0]  = 'no_car'\n",
        "class_dictionary[1]  = 'car'"
      ],
      "metadata": {
        "id": "DVbVQLOQlGFH"
      },
      "execution_count": 15,
      "outputs": []
    },
    {
      "cell_type": "code",
      "source": [
        "class_dictionary"
      ],
      "metadata": {
        "colab": {
          "base_uri": "https://localhost:8080/"
        },
        "id": "y10jYSPwlGed",
        "outputId": "d16da46e-5547-4687-ce1d-cc0620c0038b"
      },
      "execution_count": 16,
      "outputs": [
        {
          "output_type": "execute_result",
          "data": {
            "text/plain": [
              "{0: 'no_car', 1: 'car'}"
            ]
          },
          "metadata": {},
          "execution_count": 16
        }
      ]
    },
    {
      "cell_type": "code",
      "source": [
        "import cv2\n",
        "import numpy as np\n",
        "\n",
        "def make_prediction(image):\n",
        "    image = cv2.imread(image)\n",
        "    image = cv2.resize(image, (48, 48))\n",
        "    img = image/255\n",
        "#     (1, 48, 48, 3) -> 4D Tensor\n",
        "    img = np.expand_dims(img, axis = 0)\n",
        "\n",
        "    class_predicted = model_final.predict(img)\n",
        "    intId = np.argmax(class_predicted[0])\n",
        "    label = class_dictionary[intId]\n",
        "    return label"
      ],
      "metadata": {
        "id": "vdmM9mQPlK0O"
      },
      "execution_count": 17,
      "outputs": []
    },
    {
      "cell_type": "code",
      "source": [
        "make_prediction(\"/content/drive/MyDrive/train_data/test/occupied/spot138.jpg\")"
      ],
      "metadata": {
        "colab": {
          "base_uri": "https://localhost:8080/",
          "height": 53
        },
        "id": "pavPznKelPBp",
        "outputId": "ad6de04c-3a91-45b0-f122-c9dd610b9944"
      },
      "execution_count": 20,
      "outputs": [
        {
          "output_type": "stream",
          "name": "stdout",
          "text": [
            "1/1 [==============================] - 0s 18ms/step\n"
          ]
        },
        {
          "output_type": "execute_result",
          "data": {
            "text/plain": [
              "'car'"
            ],
            "application/vnd.google.colaboratory.intrinsic+json": {
              "type": "string"
            }
          },
          "metadata": {},
          "execution_count": 20
        }
      ]
    },
    {
      "cell_type": "code",
      "source": [
        " make_prediction(\"/content/drive/MyDrive/train_data/test/empty/spot167.jpg\")"
      ],
      "metadata": {
        "colab": {
          "base_uri": "https://localhost:8080/",
          "height": 53
        },
        "id": "XC8a722ZlSte",
        "outputId": "f6864463-1d0f-4ac2-9b0e-f211bf980ca2"
      },
      "execution_count": 25,
      "outputs": [
        {
          "output_type": "stream",
          "name": "stdout",
          "text": [
            "1/1 [==============================] - 0s 18ms/step\n"
          ]
        },
        {
          "output_type": "execute_result",
          "data": {
            "text/plain": [
              "'no_car'"
            ],
            "application/vnd.google.colaboratory.intrinsic+json": {
              "type": "string"
            }
          },
          "metadata": {},
          "execution_count": 25
        }
      ]
    },
    {
      "cell_type": "code",
      "source": [
        "model_final.save(\"model_final.h5\")"
      ],
      "metadata": {
        "id": "8WLYo0HklTKW"
      },
      "execution_count": 26,
      "outputs": []
    }
  ],
  "metadata": {
    "accelerator": "GPU",
    "colab": {
      "gpuType": "T4",
      "provenance": []
    },
    "kernelspec": {
      "display_name": "Python 3",
      "name": "python3"
    },
    "language_info": {
      "name": "python"
    }
  },
  "nbformat": 4,
  "nbformat_minor": 0
}